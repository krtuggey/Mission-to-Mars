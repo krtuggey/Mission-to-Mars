{
 "cells": [
  {
   "cell_type": "code",
   "execution_count": 1,
   "id": "ced575f9",
   "metadata": {
    "scrolled": false
   },
   "outputs": [],
   "source": [
    "import sys\n",
    "sys.path.append('C:\\\\Users\\\\Kat\\\\AppData\\\\Local\\\\Programs\\\\Python\\\\Python37\\\\lib\\\\site-packages')"
   ]
  },
  {
   "cell_type": "code",
   "execution_count": 2,
   "id": "0a034637",
   "metadata": {},
   "outputs": [],
   "source": [
    "from splinter import Browser\n",
    "from bs4 import BeautifulSoup as soup\n",
    "from webdriver_manager.chrome import ChromeDriverManager"
   ]
  },
  {
   "cell_type": "code",
   "execution_count": 3,
   "id": "585427a2",
   "metadata": {},
   "outputs": [
    {
     "name": "stderr",
     "output_type": "stream",
     "text": [
      "\n",
      "\n",
      "====== WebDriver manager ======\n",
      "Current google-chrome version is 92.0.4515\n",
      "Get LATEST driver version for 92.0.4515\n",
      "There is no [win32] chromedriver for browser 92.0.4515 in cache\n",
      "Get LATEST driver version for 92.0.4515\n",
      "Trying to download new driver from https://chromedriver.storage.googleapis.com/92.0.4515.107/chromedriver_win32.zip\n",
      "Driver has been saved in cache [C:\\Users\\Kat\\.wdm\\drivers\\chromedriver\\win32\\92.0.4515.107]\n"
     ]
    }
   ],
   "source": [
    "# Set up Splinter\n",
    "executable_path = {'executable_path': ChromeDriverManager().install()}\n",
    "browser = Browser('chrome', **executable_path, headless=False)"
   ]
  },
  {
   "cell_type": "code",
   "execution_count": 4,
   "id": "3865f948",
   "metadata": {},
   "outputs": [],
   "source": [
    "# Visit the Quotes to Scrape site\n",
    "url = 'http://quotes.toscrape.com/'\n",
    "browser.visit(url)"
   ]
  },
  {
   "cell_type": "code",
   "execution_count": 5,
   "id": "0bf6c713",
   "metadata": {},
   "outputs": [],
   "source": [
    "# Parse the HTML\n",
    "html = browser.html\n",
    "html_soup = soup(html, 'html.parser')"
   ]
  },
  {
   "cell_type": "code",
   "execution_count": 6,
   "id": "325cd3dc",
   "metadata": {},
   "outputs": [
    {
     "data": {
      "text/plain": [
       "'Top Ten tags'"
      ]
     },
     "execution_count": 6,
     "metadata": {},
     "output_type": "execute_result"
    }
   ],
   "source": [
    "# Scrape the Title\n",
    "title = html_soup.find('h2').text\n",
    "title"
   ]
  },
  {
   "cell_type": "code",
   "execution_count": 7,
   "id": "3eed745b",
   "metadata": {},
   "outputs": [
    {
     "name": "stdout",
     "output_type": "stream",
     "text": [
      "love\n",
      "inspirational\n",
      "life\n",
      "humor\n",
      "books\n",
      "reading\n",
      "friendship\n",
      "friends\n",
      "truth\n",
      "simile\n"
     ]
    }
   ],
   "source": [
    "# Scrape the top ten tags\n",
    "tag_box = html_soup.find('div', class_='tags-box')\n",
    "# tag_box\n",
    "tags = tag_box.find_all('a', class_='tag')\n",
    "\n",
    "for tag in tags:\n",
    "    word = tag.text\n",
    "    print(word)"
   ]
  },
  {
   "cell_type": "code",
   "execution_count": 18,
   "id": "644534b2",
   "metadata": {},
   "outputs": [
    {
     "ename": "ElementDoesNotExist",
     "evalue": "no elements could be found with link by partial text \"Next\"",
     "output_type": "error",
     "traceback": [
      "\u001b[1;31m---------------------------------------------------------------------------\u001b[0m",
      "\u001b[1;31mIndexError\u001b[0m                                Traceback (most recent call last)",
      "\u001b[1;32m~\\AppData\\Local\\Programs\\Python\\Python37\\lib\\site-packages\\splinter\\element_list.py\u001b[0m in \u001b[0;36m__getitem__\u001b[1;34m(self, index)\u001b[0m\n\u001b[0;32m     41\u001b[0m         \u001b[1;32mtry\u001b[0m\u001b[1;33m:\u001b[0m\u001b[1;33m\u001b[0m\u001b[1;33m\u001b[0m\u001b[0m\n\u001b[1;32m---> 42\u001b[1;33m             \u001b[1;32mreturn\u001b[0m \u001b[0mself\u001b[0m\u001b[1;33m.\u001b[0m\u001b[0m_container\u001b[0m\u001b[1;33m[\u001b[0m\u001b[0mindex\u001b[0m\u001b[1;33m]\u001b[0m\u001b[1;33m\u001b[0m\u001b[1;33m\u001b[0m\u001b[0m\n\u001b[0m\u001b[0;32m     43\u001b[0m         \u001b[1;32mexcept\u001b[0m \u001b[0mIndexError\u001b[0m\u001b[1;33m:\u001b[0m\u001b[1;33m\u001b[0m\u001b[1;33m\u001b[0m\u001b[0m\n",
      "\u001b[1;31mIndexError\u001b[0m: list index out of range",
      "\nDuring handling of the above exception, another exception occurred:\n",
      "\u001b[1;31mElementDoesNotExist\u001b[0m                       Traceback (most recent call last)",
      "\u001b[1;32m<ipython-input-18-90385102186c>\u001b[0m in \u001b[0;36m<module>\u001b[1;34m\u001b[0m\n\u001b[0;32m      6\u001b[0m       \u001b[0mprint\u001b[0m\u001b[1;33m(\u001b[0m\u001b[1;34m'page:'\u001b[0m\u001b[1;33m,\u001b[0m \u001b[0mx\u001b[0m\u001b[1;33m,\u001b[0m \u001b[1;34m'----------'\u001b[0m\u001b[1;33m)\u001b[0m\u001b[1;33m\u001b[0m\u001b[1;33m\u001b[0m\u001b[0m\n\u001b[0;32m      7\u001b[0m       \u001b[0mprint\u001b[0m\u001b[1;33m(\u001b[0m\u001b[0mquote\u001b[0m\u001b[1;33m.\u001b[0m\u001b[0mtext\u001b[0m\u001b[1;33m)\u001b[0m\u001b[1;33m\u001b[0m\u001b[1;33m\u001b[0m\u001b[0m\n\u001b[1;32m----> 8\u001b[1;33m    \u001b[0mbrowser\u001b[0m\u001b[1;33m.\u001b[0m\u001b[0mlinks\u001b[0m\u001b[1;33m.\u001b[0m\u001b[0mfind_by_partial_text\u001b[0m\u001b[1;33m(\u001b[0m\u001b[1;34m'Next'\u001b[0m\u001b[1;33m)\u001b[0m\u001b[1;33m.\u001b[0m\u001b[0mclick\u001b[0m\u001b[1;33m(\u001b[0m\u001b[1;33m)\u001b[0m\u001b[1;33m\u001b[0m\u001b[1;33m\u001b[0m\u001b[0m\n\u001b[0m",
      "\u001b[1;32m~\\AppData\\Local\\Programs\\Python\\Python37\\lib\\site-packages\\splinter\\element_list.py\u001b[0m in \u001b[0;36m__getattr__\u001b[1;34m(self, name)\u001b[0m\n\u001b[0;32m     74\u001b[0m     \u001b[1;32mdef\u001b[0m \u001b[0m__getattr__\u001b[0m\u001b[1;33m(\u001b[0m\u001b[0mself\u001b[0m\u001b[1;33m,\u001b[0m \u001b[0mname\u001b[0m\u001b[1;33m)\u001b[0m\u001b[1;33m:\u001b[0m\u001b[1;33m\u001b[0m\u001b[1;33m\u001b[0m\u001b[0m\n\u001b[0;32m     75\u001b[0m         \u001b[1;32mtry\u001b[0m\u001b[1;33m:\u001b[0m\u001b[1;33m\u001b[0m\u001b[1;33m\u001b[0m\u001b[0m\n\u001b[1;32m---> 76\u001b[1;33m             \u001b[1;32mreturn\u001b[0m \u001b[0mgetattr\u001b[0m\u001b[1;33m(\u001b[0m\u001b[0mself\u001b[0m\u001b[1;33m.\u001b[0m\u001b[0mfirst\u001b[0m\u001b[1;33m,\u001b[0m \u001b[0mname\u001b[0m\u001b[1;33m)\u001b[0m\u001b[1;33m\u001b[0m\u001b[1;33m\u001b[0m\u001b[0m\n\u001b[0m\u001b[0;32m     77\u001b[0m         \u001b[1;32mexcept\u001b[0m \u001b[0mAttributeError\u001b[0m\u001b[1;33m:\u001b[0m\u001b[1;33m\u001b[0m\u001b[1;33m\u001b[0m\u001b[0m\n\u001b[0;32m     78\u001b[0m             \u001b[1;32mtry\u001b[0m\u001b[1;33m:\u001b[0m\u001b[1;33m\u001b[0m\u001b[1;33m\u001b[0m\u001b[0m\n",
      "\u001b[1;32m~\\AppData\\Local\\Programs\\Python\\Python37\\lib\\site-packages\\splinter\\element_list.py\u001b[0m in \u001b[0;36mfirst\u001b[1;34m(self)\u001b[0m\n\u001b[0;32m     55\u001b[0m             \u001b[1;33m>>\u001b[0m\u001b[1;33m>\u001b[0m \u001b[1;32massert\u001b[0m \u001b[0melement_list\u001b[0m\u001b[1;33m[\u001b[0m\u001b[1;36m0\u001b[0m\u001b[1;33m]\u001b[0m \u001b[1;33m==\u001b[0m \u001b[0melement_list\u001b[0m\u001b[1;33m.\u001b[0m\u001b[0mfirst\u001b[0m\u001b[1;33m\u001b[0m\u001b[1;33m\u001b[0m\u001b[0m\n\u001b[0;32m     56\u001b[0m         \"\"\"\n\u001b[1;32m---> 57\u001b[1;33m         \u001b[1;32mreturn\u001b[0m \u001b[0mself\u001b[0m\u001b[1;33m[\u001b[0m\u001b[1;36m0\u001b[0m\u001b[1;33m]\u001b[0m\u001b[1;33m\u001b[0m\u001b[1;33m\u001b[0m\u001b[0m\n\u001b[0m\u001b[0;32m     58\u001b[0m \u001b[1;33m\u001b[0m\u001b[0m\n\u001b[0;32m     59\u001b[0m     \u001b[1;33m@\u001b[0m\u001b[0mproperty\u001b[0m\u001b[1;33m\u001b[0m\u001b[1;33m\u001b[0m\u001b[0m\n",
      "\u001b[1;32m~\\AppData\\Local\\Programs\\Python\\Python37\\lib\\site-packages\\splinter\\element_list.py\u001b[0m in \u001b[0;36m__getitem__\u001b[1;34m(self, index)\u001b[0m\n\u001b[0;32m     44\u001b[0m             raise ElementDoesNotExist(\n\u001b[0;32m     45\u001b[0m                 u'no elements could be found with {0} \"{1}\"'.format(\n\u001b[1;32m---> 46\u001b[1;33m                     \u001b[0mself\u001b[0m\u001b[1;33m.\u001b[0m\u001b[0mfind_by\u001b[0m\u001b[1;33m,\u001b[0m \u001b[0mself\u001b[0m\u001b[1;33m.\u001b[0m\u001b[0mquery\u001b[0m\u001b[1;33m\u001b[0m\u001b[1;33m\u001b[0m\u001b[0m\n\u001b[0m\u001b[0;32m     47\u001b[0m                 )\n\u001b[0;32m     48\u001b[0m             )\n",
      "\u001b[1;31mElementDoesNotExist\u001b[0m: no elements could be found with link by partial text \"Next\""
     ]
    }
   ],
   "source": [
    "for x in range(1, 6):\n",
    "   html = browser.html\n",
    "   quote_soup = soup(html, 'html.parser')\n",
    "   quotes = quote_soup.find_all('span', class_='text')\n",
    "   for quote in quotes:\n",
    "      print('page:', x, '----------')\n",
    "      print(quote.text)\n",
    "   browser.links.find_by_partial_text('Next').click()"
   ]
  },
  {
   "cell_type": "code",
   "execution_count": 20,
   "id": "665814f9",
   "metadata": {},
   "outputs": [],
   "source": [
    "url2 = 'http://books.toscrape.com/'\n",
    "browser.visit(url2)"
   ]
  },
  {
   "cell_type": "code",
   "execution_count": 36,
   "id": "794ad842",
   "metadata": {},
   "outputs": [
    {
     "name": "stdout",
     "output_type": "stream",
     "text": [
      "Found the URL: index.html\n",
      "Found the URL: index.html\n",
      "Found the URL: catalogue/category/books_1/index.html\n",
      "Found the URL: catalogue/category/books/travel_2/index.html\n",
      "Found the URL: catalogue/category/books/mystery_3/index.html\n",
      "Found the URL: catalogue/category/books/historical-fiction_4/index.html\n",
      "Found the URL: catalogue/category/books/sequential-art_5/index.html\n",
      "Found the URL: catalogue/category/books/classics_6/index.html\n",
      "Found the URL: catalogue/category/books/philosophy_7/index.html\n",
      "Found the URL: catalogue/category/books/romance_8/index.html\n",
      "Found the URL: catalogue/category/books/womens-fiction_9/index.html\n",
      "Found the URL: catalogue/category/books/fiction_10/index.html\n",
      "Found the URL: catalogue/category/books/childrens_11/index.html\n",
      "Found the URL: catalogue/category/books/religion_12/index.html\n",
      "Found the URL: catalogue/category/books/nonfiction_13/index.html\n",
      "Found the URL: catalogue/category/books/music_14/index.html\n",
      "Found the URL: catalogue/category/books/default_15/index.html\n",
      "Found the URL: catalogue/category/books/science-fiction_16/index.html\n",
      "Found the URL: catalogue/category/books/sports-and-games_17/index.html\n",
      "Found the URL: catalogue/category/books/add-a-comment_18/index.html\n",
      "Found the URL: catalogue/category/books/fantasy_19/index.html\n",
      "Found the URL: catalogue/category/books/new-adult_20/index.html\n",
      "Found the URL: catalogue/category/books/young-adult_21/index.html\n",
      "Found the URL: catalogue/category/books/science_22/index.html\n",
      "Found the URL: catalogue/category/books/poetry_23/index.html\n",
      "Found the URL: catalogue/category/books/paranormal_24/index.html\n",
      "Found the URL: catalogue/category/books/art_25/index.html\n",
      "Found the URL: catalogue/category/books/psychology_26/index.html\n",
      "Found the URL: catalogue/category/books/autobiography_27/index.html\n",
      "Found the URL: catalogue/category/books/parenting_28/index.html\n",
      "Found the URL: catalogue/category/books/adult-fiction_29/index.html\n",
      "Found the URL: catalogue/category/books/humor_30/index.html\n",
      "Found the URL: catalogue/category/books/horror_31/index.html\n",
      "Found the URL: catalogue/category/books/history_32/index.html\n",
      "Found the URL: catalogue/category/books/food-and-drink_33/index.html\n",
      "Found the URL: catalogue/category/books/christian-fiction_34/index.html\n",
      "Found the URL: catalogue/category/books/business_35/index.html\n",
      "Found the URL: catalogue/category/books/biography_36/index.html\n",
      "Found the URL: catalogue/category/books/thriller_37/index.html\n",
      "Found the URL: catalogue/category/books/contemporary_38/index.html\n",
      "Found the URL: catalogue/category/books/spirituality_39/index.html\n",
      "Found the URL: catalogue/category/books/academic_40/index.html\n",
      "Found the URL: catalogue/category/books/self-help_41/index.html\n",
      "Found the URL: catalogue/category/books/historical_42/index.html\n",
      "Found the URL: catalogue/category/books/christian_43/index.html\n",
      "Found the URL: catalogue/category/books/suspense_44/index.html\n",
      "Found the URL: catalogue/category/books/short-stories_45/index.html\n",
      "Found the URL: catalogue/category/books/novels_46/index.html\n",
      "Found the URL: catalogue/category/books/health_47/index.html\n",
      "Found the URL: catalogue/category/books/politics_48/index.html\n",
      "Found the URL: catalogue/category/books/cultural_49/index.html\n",
      "Found the URL: catalogue/category/books/erotica_50/index.html\n",
      "Found the URL: catalogue/category/books/crime_51/index.html\n",
      "Found the URL: catalogue/a-light-in-the-attic_1000/index.html\n",
      "Found the URL: catalogue/a-light-in-the-attic_1000/index.html\n",
      "Found the URL: catalogue/tipping-the-velvet_999/index.html\n",
      "Found the URL: catalogue/tipping-the-velvet_999/index.html\n",
      "Found the URL: catalogue/soumission_998/index.html\n",
      "Found the URL: catalogue/soumission_998/index.html\n",
      "Found the URL: catalogue/sharp-objects_997/index.html\n",
      "Found the URL: catalogue/sharp-objects_997/index.html\n",
      "Found the URL: catalogue/sapiens-a-brief-history-of-humankind_996/index.html\n",
      "Found the URL: catalogue/sapiens-a-brief-history-of-humankind_996/index.html\n",
      "Found the URL: catalogue/the-requiem-red_995/index.html\n",
      "Found the URL: catalogue/the-requiem-red_995/index.html\n",
      "Found the URL: catalogue/the-dirty-little-secrets-of-getting-your-dream-job_994/index.html\n",
      "Found the URL: catalogue/the-dirty-little-secrets-of-getting-your-dream-job_994/index.html\n",
      "Found the URL: catalogue/the-coming-woman-a-novel-based-on-the-life-of-the-infamous-feminist-victoria-woodhull_993/index.html\n",
      "Found the URL: catalogue/the-coming-woman-a-novel-based-on-the-life-of-the-infamous-feminist-victoria-woodhull_993/index.html\n",
      "Found the URL: catalogue/the-boys-in-the-boat-nine-americans-and-their-epic-quest-for-gold-at-the-1936-berlin-olympics_992/index.html\n",
      "Found the URL: catalogue/the-boys-in-the-boat-nine-americans-and-their-epic-quest-for-gold-at-the-1936-berlin-olympics_992/index.html\n",
      "Found the URL: catalogue/the-black-maria_991/index.html\n",
      "Found the URL: catalogue/the-black-maria_991/index.html\n",
      "Found the URL: catalogue/starving-hearts-triangular-trade-trilogy-1_990/index.html\n",
      "Found the URL: catalogue/starving-hearts-triangular-trade-trilogy-1_990/index.html\n",
      "Found the URL: catalogue/shakespeares-sonnets_989/index.html\n",
      "Found the URL: catalogue/shakespeares-sonnets_989/index.html\n",
      "Found the URL: catalogue/set-me-free_988/index.html\n",
      "Found the URL: catalogue/set-me-free_988/index.html\n",
      "Found the URL: catalogue/scott-pilgrims-precious-little-life-scott-pilgrim-1_987/index.html\n",
      "Found the URL: catalogue/scott-pilgrims-precious-little-life-scott-pilgrim-1_987/index.html\n",
      "Found the URL: catalogue/rip-it-up-and-start-again_986/index.html\n",
      "Found the URL: catalogue/rip-it-up-and-start-again_986/index.html\n",
      "Found the URL: catalogue/our-band-could-be-your-life-scenes-from-the-american-indie-underground-1981-1991_985/index.html\n",
      "Found the URL: catalogue/our-band-could-be-your-life-scenes-from-the-american-indie-underground-1981-1991_985/index.html\n",
      "Found the URL: catalogue/olio_984/index.html\n",
      "Found the URL: catalogue/olio_984/index.html\n",
      "Found the URL: catalogue/mesaerion-the-best-science-fiction-stories-1800-1849_983/index.html\n",
      "Found the URL: catalogue/mesaerion-the-best-science-fiction-stories-1800-1849_983/index.html\n",
      "Found the URL: catalogue/libertarianism-for-beginners_982/index.html\n",
      "Found the URL: catalogue/libertarianism-for-beginners_982/index.html\n",
      "Found the URL: catalogue/its-only-the-himalayas_981/index.html\n",
      "Found the URL: catalogue/its-only-the-himalayas_981/index.html\n",
      "Found the URL: catalogue/page-2.html\n"
     ]
    }
   ],
   "source": [
    "html = browser.html\n",
    "html_soup = soup(html, 'html.parser')\n",
    "for a in html_soup.find_all('a', href=True):\n",
    "    print (\"Found the URL:\", a['href'])\n",
    "#href_tags = html_soup.find_all(href=True)\n",
    "#print(href_tags)"
   ]
  },
  {
   "cell_type": "code",
   "execution_count": null,
   "id": "b148a67d",
   "metadata": {},
   "outputs": [],
   "source": []
  }
 ],
 "metadata": {
  "kernelspec": {
   "display_name": "PythonData",
   "language": "python",
   "name": "pythondata"
  },
  "language_info": {
   "codemirror_mode": {
    "name": "ipython",
    "version": 3
   },
   "file_extension": ".py",
   "mimetype": "text/x-python",
   "name": "python",
   "nbconvert_exporter": "python",
   "pygments_lexer": "ipython3",
   "version": "3.7.10"
  }
 },
 "nbformat": 4,
 "nbformat_minor": 5
}
